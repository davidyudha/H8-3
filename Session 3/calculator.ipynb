{
 "cells": [
  {
   "cell_type": "code",
   "execution_count": null,
   "id": "da2d11b4",
   "metadata": {},
   "outputs": [],
   "source": [
    "# Function penambahan dan perkalian\n",
    "def addition(*tup):\n",
    "    result = 0\n",
    "    for t in tup:\n",
    "        result += t\n",
    "    return result\n",
    "\n",
    "def multiplication(*tup):\n",
    "    result = 1\n",
    "    for t in tup:\n",
    "        result *= t\n",
    "    return result\n",
    "\n",
    "def division(*tup):\n",
    "    [result, *sisa] = tup\n",
    "    for t in sisa:\n",
    "        result /= t\n",
    "    return result"
   ]
  }
 ],
 "metadata": {
  "kernelspec": {
   "display_name": "Python 3",
   "language": "python",
   "name": "python3"
  },
  "language_info": {
   "codemirror_mode": {
    "name": "ipython",
    "version": 3
   },
   "file_extension": ".py",
   "mimetype": "text/x-python",
   "name": "python",
   "nbconvert_exporter": "python",
   "pygments_lexer": "ipython3",
   "version": "3.8.8"
  },
  "toc": {
   "base_numbering": 1,
   "nav_menu": {},
   "number_sections": true,
   "sideBar": true,
   "skip_h1_title": false,
   "title_cell": "Table of Contents",
   "title_sidebar": "Contents",
   "toc_cell": false,
   "toc_position": {},
   "toc_section_display": true,
   "toc_window_display": false
  }
 },
 "nbformat": 4,
 "nbformat_minor": 5
}
