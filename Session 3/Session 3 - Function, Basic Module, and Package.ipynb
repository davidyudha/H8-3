{
 "cells": [
  {
   "cell_type": "markdown",
   "id": "0ac4e3f2",
   "metadata": {},
   "source": [
    "## Function"
   ]
  },
  {
   "cell_type": "markdown",
   "id": "f3a24eff",
   "metadata": {},
   "source": [
    "### Declare function"
   ]
  },
  {
   "cell_type": "code",
   "execution_count": 1,
   "id": "0898fdc2",
   "metadata": {},
   "outputs": [
    {
     "data": {
      "text/plain": [
       "'*\\n**\\n***\\n****\\n*****\\n******\\n*******\\n'"
      ]
     },
     "execution_count": 1,
     "metadata": {},
     "output_type": "execute_result"
    }
   ],
   "source": [
    "def star_stair(step):\n",
    "    row = step\n",
    "    i = 0\n",
    "    disp = \"\"\n",
    "    while i < row:\n",
    "        col = i + 1\n",
    "        j = 0\n",
    "        while j < col:\n",
    "            disp += \"*\"\n",
    "            j += 1\n",
    "        disp += \"\\n\"\n",
    "        i = col\n",
    "    return disp\n",
    "\n",
    "star_stair(7)"
   ]
  },
  {
   "cell_type": "code",
   "execution_count": 2,
   "id": "48b7f622",
   "metadata": {},
   "outputs": [
    {
     "name": "stdout",
     "output_type": "stream",
     "text": [
      "*\n",
      "**\n",
      "***\n",
      "****\n",
      "*****\n",
      "******\n",
      "*******\n",
      "\n"
     ]
    }
   ],
   "source": [
    "print(star_stair(7))"
   ]
  },
  {
   "cell_type": "markdown",
   "id": "ff736dbd",
   "metadata": {},
   "source": [
    "### Return"
   ]
  },
  {
   "cell_type": "code",
   "execution_count": 3,
   "id": "f3f4635c",
   "metadata": {},
   "outputs": [],
   "source": [
    "def kuadrat_no_return(num):\n",
    "    hasil = num * num\n",
    "def kuadrat_return(num):\n",
    "    hasil = num * num\n",
    "    return hasil"
   ]
  },
  {
   "cell_type": "code",
   "execution_count": 4,
   "id": "b72f7437",
   "metadata": {},
   "outputs": [
    {
     "name": "stdout",
     "output_type": "stream",
     "text": [
      "35\n"
     ]
    }
   ],
   "source": [
    "# f(x) = 10 + x ** 2\n",
    "\n",
    "hasil = 10 + kuadrat_return(5)\n",
    "print(hasil)"
   ]
  },
  {
   "cell_type": "code",
   "execution_count": 5,
   "id": "d61878e0",
   "metadata": {},
   "outputs": [
    {
     "ename": "TypeError",
     "evalue": "unsupported operand type(s) for +: 'int' and 'NoneType'",
     "output_type": "error",
     "traceback": [
      "\u001b[1;31m---------------------------------------------------------------------------\u001b[0m",
      "\u001b[1;31mTypeError\u001b[0m                                 Traceback (most recent call last)",
      "\u001b[1;32m<ipython-input-5-176881f01f99>\u001b[0m in \u001b[0;36m<module>\u001b[1;34m\u001b[0m\n\u001b[1;32m----> 1\u001b[1;33m \u001b[0mhasil\u001b[0m \u001b[1;33m=\u001b[0m \u001b[1;36m10\u001b[0m \u001b[1;33m+\u001b[0m \u001b[0mkuadrat_no_return\u001b[0m\u001b[1;33m(\u001b[0m\u001b[1;36m5\u001b[0m\u001b[1;33m)\u001b[0m\u001b[1;33m\u001b[0m\u001b[1;33m\u001b[0m\u001b[0m\n\u001b[0m\u001b[0;32m      2\u001b[0m \u001b[0mprint\u001b[0m\u001b[1;33m(\u001b[0m\u001b[0mhasil\u001b[0m\u001b[1;33m)\u001b[0m\u001b[1;33m\u001b[0m\u001b[1;33m\u001b[0m\u001b[0m\n",
      "\u001b[1;31mTypeError\u001b[0m: unsupported operand type(s) for +: 'int' and 'NoneType'"
     ]
    }
   ],
   "source": [
    "hasil = 10 + kuadrat_no_return(5)\n",
    "print(hasil)"
   ]
  },
  {
   "cell_type": "code",
   "execution_count": 7,
   "id": "c3d89f1e",
   "metadata": {},
   "outputs": [
    {
     "name": "stdout",
     "output_type": "stream",
     "text": [
      "Hello, David\n"
     ]
    }
   ],
   "source": [
    "# Function with no return\n",
    "def print_hello(nama):\n",
    "    print(\"Hello,\", nama)\n",
    "    \n",
    "print_hello(\"David\")"
   ]
  },
  {
   "cell_type": "code",
   "execution_count": 14,
   "id": "5612befd",
   "metadata": {},
   "outputs": [
    {
     "name": "stdout",
     "output_type": "stream",
     "text": [
      "Please input your age: 89\n"
     ]
    },
    {
     "data": {
      "text/plain": [
       "'You are adult \\n You are allowed to drive !!'"
      ]
     },
     "execution_count": 14,
     "metadata": {},
     "output_type": "execute_result"
    }
   ],
   "source": [
    "def adult(age):\n",
    "    if not age.isnumeric():\n",
    "        return\n",
    "    \n",
    "    my_age = int(age)\n",
    "    if my_age >= adult_treshold:\n",
    "        return \"You are adult \\n You are allowed to drive !!\"\n",
    "    else:\n",
    "        years_to_adult = adult_treshold - my_age\n",
    "        return \"You are underage, please wait for {} years\".format(years_to_adult)\n",
    "\n",
    "my_age = 0\n",
    "adult_treshold = 18\n",
    "\n",
    "my_age = input(\"Please input your age: \")\n",
    "adult(my_age)\n"
   ]
  },
  {
   "cell_type": "markdown",
   "id": "c0353b8d",
   "metadata": {},
   "source": [
    "### Positional and Keyword Argument"
   ]
  },
  {
   "cell_type": "code",
   "execution_count": 19,
   "id": "0c0aa399",
   "metadata": {},
   "outputs": [],
   "source": [
    "# def print_bio(nama, hobi):\n",
    "#     print(\"Halo, nama saya\", nama)\n",
    "#     print(\"Hobi saya\", hobi)\n",
    "    \n",
    "def print_bio(hobi, nama='Vid'):\n",
    "    print(\"Halo, nama saya\", nama)\n",
    "    print(\"Hobi saya\", hobi)"
   ]
  },
  {
   "cell_type": "code",
   "execution_count": 16,
   "id": "f16ae325",
   "metadata": {},
   "outputs": [
    {
     "name": "stdout",
     "output_type": "stream",
     "text": [
      "Halo, nama saya  David\n",
      "Hobi saya  masak\n"
     ]
    }
   ],
   "source": [
    "print_bio(\"David\", \"masak\")"
   ]
  },
  {
   "cell_type": "code",
   "execution_count": 17,
   "id": "5b1a9cbe",
   "metadata": {},
   "outputs": [
    {
     "name": "stdout",
     "output_type": "stream",
     "text": [
      "Halo, nama saya  Dave\n",
      "Hobi saya  bernafas\n"
     ]
    }
   ],
   "source": [
    "print_bio(hobi = 'bernafas', nama = 'Dave')"
   ]
  },
  {
   "cell_type": "code",
   "execution_count": 20,
   "id": "65ce16ed",
   "metadata": {
    "scrolled": true
   },
   "outputs": [
    {
     "name": "stdout",
     "output_type": "stream",
     "text": [
      "Halo, nama saya Vid\n",
      "Hobi saya minum\n"
     ]
    }
   ],
   "source": [
    "print_bio(\"minum\")"
   ]
  },
  {
   "cell_type": "markdown",
   "id": "e80475e5",
   "metadata": {},
   "source": [
    "### Variable-Length Argument"
   ]
  },
  {
   "cell_type": "code",
   "execution_count": 21,
   "id": "b0188ce6",
   "metadata": {},
   "outputs": [],
   "source": [
    "def tambah(a, b, *res):\n",
    "    hasil = a + b\n",
    "    for i in res:\n",
    "        hasil += i\n",
    "    return hasil"
   ]
  },
  {
   "cell_type": "code",
   "execution_count": 22,
   "id": "d6ca8271",
   "metadata": {},
   "outputs": [
    {
     "data": {
      "text/plain": [
       "36"
      ]
     },
     "execution_count": 22,
     "metadata": {},
     "output_type": "execute_result"
    }
   ],
   "source": [
    "tambah(1,2,3,4,5,6,7,8)"
   ]
  },
  {
   "cell_type": "markdown",
   "id": "a36d7fd0",
   "metadata": {},
   "source": [
    "### Scope Variable"
   ]
  },
  {
   "cell_type": "code",
   "execution_count": 23,
   "id": "8ba989af",
   "metadata": {},
   "outputs": [],
   "source": [
    "def tambah(a, b, *res):\n",
    "    val = a + b\n",
    "    for i in res:\n",
    "        val += i\n",
    "    return val"
   ]
  },
  {
   "cell_type": "code",
   "execution_count": 24,
   "id": "42f8f480",
   "metadata": {},
   "outputs": [
    {
     "ename": "NameError",
     "evalue": "name 'val' is not defined",
     "output_type": "error",
     "traceback": [
      "\u001b[1;31m---------------------------------------------------------------------------\u001b[0m",
      "\u001b[1;31mNameError\u001b[0m                                 Traceback (most recent call last)",
      "\u001b[1;32m<ipython-input-24-54a7d177c749>\u001b[0m in \u001b[0;36m<module>\u001b[1;34m\u001b[0m\n\u001b[1;32m----> 1\u001b[1;33m \u001b[0mprint\u001b[0m\u001b[1;33m(\u001b[0m\u001b[0mval\u001b[0m\u001b[1;33m)\u001b[0m\u001b[1;33m\u001b[0m\u001b[1;33m\u001b[0m\u001b[0m\n\u001b[0m",
      "\u001b[1;31mNameError\u001b[0m: name 'val' is not defined"
     ]
    }
   ],
   "source": [
    "print(val)"
   ]
  },
  {
   "cell_type": "code",
   "execution_count": 26,
   "id": "e4de9bb7",
   "metadata": {},
   "outputs": [
    {
     "name": "stdout",
     "output_type": "stream",
     "text": [
      "outer variable\n"
     ]
    },
    {
     "ename": "NameError",
     "evalue": "name 'iner_var' is not defined",
     "output_type": "error",
     "traceback": [
      "\u001b[1;31m---------------------------------------------------------------------------\u001b[0m",
      "\u001b[1;31mNameError\u001b[0m                                 Traceback (most recent call last)",
      "\u001b[1;32m<ipython-input-26-a39152eedbd5>\u001b[0m in \u001b[0;36m<module>\u001b[1;34m\u001b[0m\n\u001b[0;32m      7\u001b[0m     \u001b[0mprint\u001b[0m\u001b[1;33m(\u001b[0m\u001b[0miner_var\u001b[0m\u001b[1;33m)\u001b[0m\u001b[1;33m\u001b[0m\u001b[1;33m\u001b[0m\u001b[0m\n\u001b[0;32m      8\u001b[0m \u001b[1;33m\u001b[0m\u001b[0m\n\u001b[1;32m----> 9\u001b[1;33m \u001b[0mnested_fun\u001b[0m\u001b[1;33m(\u001b[0m\u001b[1;33m)\u001b[0m\u001b[1;33m\u001b[0m\u001b[1;33m\u001b[0m\u001b[0m\n\u001b[0m",
      "\u001b[1;32m<ipython-input-26-a39152eedbd5>\u001b[0m in \u001b[0;36mnested_fun\u001b[1;34m()\u001b[0m\n\u001b[0;32m      5\u001b[0m         \u001b[0mprint\u001b[0m\u001b[1;33m(\u001b[0m\u001b[0mouter_var\u001b[0m\u001b[1;33m)\u001b[0m\u001b[1;33m\u001b[0m\u001b[1;33m\u001b[0m\u001b[0m\n\u001b[0;32m      6\u001b[0m     \u001b[0mfunc\u001b[0m\u001b[1;33m(\u001b[0m\u001b[1;33m)\u001b[0m\u001b[1;33m\u001b[0m\u001b[1;33m\u001b[0m\u001b[0m\n\u001b[1;32m----> 7\u001b[1;33m     \u001b[0mprint\u001b[0m\u001b[1;33m(\u001b[0m\u001b[0miner_var\u001b[0m\u001b[1;33m)\u001b[0m\u001b[1;33m\u001b[0m\u001b[1;33m\u001b[0m\u001b[0m\n\u001b[0m\u001b[0;32m      8\u001b[0m \u001b[1;33m\u001b[0m\u001b[0m\n\u001b[0;32m      9\u001b[0m \u001b[0mnested_fun\u001b[0m\u001b[1;33m(\u001b[0m\u001b[1;33m)\u001b[0m\u001b[1;33m\u001b[0m\u001b[1;33m\u001b[0m\u001b[0m\n",
      "\u001b[1;31mNameError\u001b[0m: name 'iner_var' is not defined"
     ]
    }
   ],
   "source": [
    "def nested_fun():\n",
    "    outer_var = \"outer variable\"\n",
    "    def func():\n",
    "        iner_var = \"inner variable\"\n",
    "        print(outer_var)\n",
    "    func()\n",
    "    print(iner_var)\n",
    "    \n",
    "nested_fun()"
   ]
  },
  {
   "cell_type": "code",
   "execution_count": 48,
   "id": "01ff2050",
   "metadata": {},
   "outputs": [],
   "source": [
    "# Function penambahan dan perkalian\n",
    "def addition(*tup):\n",
    "    result = 0\n",
    "    for t in tup:\n",
    "        result += t\n",
    "    return result\n",
    "\n",
    "def multiplication(*tup):\n",
    "    result = 1\n",
    "    for t in tup:\n",
    "        result *= t\n",
    "    return result\n",
    "\n",
    "def division(*tup):\n",
    "    [result, *sisa] = tup\n",
    "    for t in sisa:\n",
    "        result /= t\n",
    "    return result"
   ]
  },
  {
   "cell_type": "code",
   "execution_count": 38,
   "id": "212d829b",
   "metadata": {},
   "outputs": [
    {
     "data": {
      "text/plain": [
       "21"
      ]
     },
     "execution_count": 38,
     "metadata": {},
     "output_type": "execute_result"
    }
   ],
   "source": [
    "addition(9, 5, 3, 4)"
   ]
  },
  {
   "cell_type": "code",
   "execution_count": 49,
   "id": "6eb931fa",
   "metadata": {
    "scrolled": true
   },
   "outputs": [
    {
     "data": {
      "text/plain": [
       "144"
      ]
     },
     "execution_count": 49,
     "metadata": {},
     "output_type": "execute_result"
    }
   ],
   "source": [
    "multiplication(3, 4, 2, 6)"
   ]
  },
  {
   "cell_type": "code",
   "execution_count": 42,
   "id": "8d9bb9b0",
   "metadata": {},
   "outputs": [
    {
     "data": {
      "text/plain": [
       "2.7"
      ]
     },
     "execution_count": 42,
     "metadata": {},
     "output_type": "execute_result"
    }
   ],
   "source": [
    "division(81,3,10)"
   ]
  },
  {
   "cell_type": "code",
   "execution_count": 33,
   "id": "47c3744f",
   "metadata": {},
   "outputs": [],
   "source": [
    "# f(x,y,z) = 10x + y^2 + z*5\n",
    "\n",
    "def f(x, y, z):\n",
    "    f = 10*x + y**2 + z*5\n",
    "    return f"
   ]
  },
  {
   "cell_type": "code",
   "execution_count": 34,
   "id": "f6a8b68f",
   "metadata": {},
   "outputs": [
    {
     "data": {
      "text/plain": [
       "39"
      ]
     },
     "execution_count": 34,
     "metadata": {},
     "output_type": "execute_result"
    }
   ],
   "source": [
    "f(2,3,2)"
   ]
  },
  {
   "cell_type": "markdown",
   "id": "92d25c0d",
   "metadata": {},
   "source": [
    "## Module"
   ]
  },
  {
   "cell_type": "code",
   "execution_count": 1,
   "id": "9d5e7200",
   "metadata": {},
   "outputs": [],
   "source": [
    "import calculator"
   ]
  },
  {
   "cell_type": "code",
   "execution_count": 2,
   "id": "c0955e73",
   "metadata": {
    "scrolled": false
   },
   "outputs": [
    {
     "name": "stdout",
     "output_type": "stream",
     "text": [
      "15\n"
     ]
    }
   ],
   "source": [
    "print(calculator.addition(10,5))"
   ]
  },
  {
   "cell_type": "code",
   "execution_count": 3,
   "id": "0a961bc0",
   "metadata": {
    "scrolled": true
   },
   "outputs": [
    {
     "name": "stdout",
     "output_type": "stream",
     "text": [
      "50\n"
     ]
    }
   ],
   "source": [
    "print(calculator.multiplication(10,5))"
   ]
  },
  {
   "cell_type": "code",
   "execution_count": 4,
   "id": "6d339ad3",
   "metadata": {},
   "outputs": [
    {
     "name": "stdout",
     "output_type": "stream",
     "text": [
      "2.0\n"
     ]
    }
   ],
   "source": [
    "from calculator import division\n",
    "\n",
    "print(division(10,5))"
   ]
  },
  {
   "cell_type": "code",
   "execution_count": 5,
   "id": "9eedd9fc",
   "metadata": {},
   "outputs": [
    {
     "name": "stdout",
     "output_type": "stream",
     "text": [
      "35\n"
     ]
    }
   ],
   "source": [
    "import calculator as cal\n",
    "print(cal.addition(20,10,5))"
   ]
  },
  {
   "cell_type": "code",
   "execution_count": 6,
   "id": "c706a001",
   "metadata": {},
   "outputs": [
    {
     "name": "stdout",
     "output_type": "stream",
     "text": [
      "90\n"
     ]
    }
   ],
   "source": [
    "from calculator import multiplication as mul\n",
    "print(mul(10,9))"
   ]
  },
  {
   "cell_type": "code",
   "execution_count": null,
   "id": "9316a69d",
   "metadata": {},
   "outputs": [],
   "source": []
  }
 ],
 "metadata": {
  "kernelspec": {
   "display_name": "Python 3",
   "language": "python",
   "name": "python3"
  },
  "language_info": {
   "codemirror_mode": {
    "name": "ipython",
    "version": 3
   },
   "file_extension": ".py",
   "mimetype": "text/x-python",
   "name": "python",
   "nbconvert_exporter": "python",
   "pygments_lexer": "ipython3",
   "version": "3.8.8"
  },
  "toc": {
   "base_numbering": 1,
   "nav_menu": {},
   "number_sections": true,
   "sideBar": true,
   "skip_h1_title": false,
   "title_cell": "Table of Contents",
   "title_sidebar": "Contents",
   "toc_cell": false,
   "toc_position": {},
   "toc_section_display": true,
   "toc_window_display": false
  }
 },
 "nbformat": 4,
 "nbformat_minor": 5
}
