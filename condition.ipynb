{
 "cells": [
  {
   "cell_type": "markdown",
   "id": "f2aa684a",
   "metadata": {},
   "source": [
    "## Condition"
   ]
  },
  {
   "cell_type": "code",
   "execution_count": null,
   "id": "617ed311",
   "metadata": {},
   "outputs": [],
   "source": [
    "# Condition\n",
    "# Equals a == b\n",
    "# Not equals a != b\n",
    "# More than a > b\n",
    "# Less than a < b\n",
    "# More than equals a >= b\n",
    "# Less than equals a <= b\n",
    "\n",
    "a = int(input(\"Please input a number : \"))\n",
    "b = 20\n",
    "\n",
    "if a == b:\n",
    "    print(a, \"equals to\", b)\n",
    "else:\n",
    "    print(a, \"is not equal to\", b)"
   ]
  },
  {
   "cell_type": "code",
   "execution_count": null,
   "id": "20a61aa4",
   "metadata": {},
   "outputs": [],
   "source": [
    "#Falsy and thruty\n",
    "print(bool(0))\n",
    "print(bool())"
   ]
  },
  {
   "cell_type": "code",
   "execution_count": null,
   "id": "2e818bad",
   "metadata": {},
   "outputs": [],
   "source": [
    "my_age = int(input(\"Please input your age: \"))\n",
    "adult_treshold = 18\n",
    "\n",
    "if my_age >= adult_treshold:\n",
    "    print(\"You are adult\")\n",
    "    print(\"You are allowed to drive !!\")\n",
    "else:\n",
    "    years_to_adult = adult_treshold - my_age\n",
    "    print(\"You are underage, please wait for {} years\".format(years_to_adult))\n"
   ]
  },
  {
   "cell_type": "code",
   "execution_count": 4,
   "id": "79506806",
   "metadata": {},
   "outputs": [
    {
     "name": "stdout",
     "output_type": "stream",
     "text": [
      "Please enter your score : 70\n",
      "Your score is C\n"
     ]
    }
   ],
   "source": [
    "'''\n",
    "    User input nilai dalam angka\n",
    "    Jika input > 90, maka nilai huruf A\n",
    "    Jika input <= 90 dan > 70, maka nilai huruf B\n",
    "    Jika input <= 70 dan > 50, maka nilai huruf C\n",
    "    Jika input <= 50 dan > 30, maka nilai huruf D\n",
    "    Selain itu E\n",
    "'''\n",
    "\n",
    "your_score = float(input(\"Please enter your score : \"))\n",
    "\n",
    "print(\"Your score is \", end='')\n",
    "\n",
    "if your_score > 90:\n",
    "    print('A')\n",
    "elif your_score <= 90 and your_score > 70:\n",
    "    print('B')\n",
    "elif your_score <= 70 and your_score > 50:\n",
    "    print('C')\n",
    "elif your_score <= 50 and your_score > 30:\n",
    "    print('D')\n",
    "else:\n",
    "    print('E')"
   ]
  },
  {
   "cell_type": "code",
   "execution_count": 5,
   "id": "78419b7f",
   "metadata": {},
   "outputs": [
    {
     "name": "stdout",
     "output_type": "stream",
     "text": [
      "You are good\n",
      "Good job\n"
     ]
    }
   ],
   "source": [
    "# One line 'if'\n",
    "# Not recommended\n",
    "\n",
    "nilai = 71\n",
    "if nilai > 70: print(\"You are good\");print(\"Good job\")"
   ]
  },
  {
   "cell_type": "markdown",
   "id": "85847339",
   "metadata": {},
   "source": [
    "## Looping"
   ]
  },
  {
   "cell_type": "markdown",
   "id": "059dd8f6",
   "metadata": {},
   "source": [
    "### While"
   ]
  },
  {
   "cell_type": "code",
   "execution_count": 7,
   "id": "658e0da7",
   "metadata": {},
   "outputs": [
    {
     "name": "stdout",
     "output_type": "stream",
     "text": [
      "Perulangan ke 1\n",
      "Perulangan ke 2\n",
      "Perulangan ke 3\n",
      "Perulangan ke 4\n",
      "Perulangan ke 5\n",
      "Perulangan ke 6\n",
      "Perulangan ke 7\n",
      "Perulangan ke 8\n",
      "Perulangan ke 9\n",
      "Perulangan ke 10\n",
      "Perulangan ke 11\n"
     ]
    }
   ],
   "source": [
    "i = 0\n",
    "while i <= 10:\n",
    "    i = i + 1\n",
    "    print(\"Perulangan ke\", i)"
   ]
  },
  {
   "cell_type": "code",
   "execution_count": 15,
   "id": "165fedbe",
   "metadata": {},
   "outputs": [
    {
     "name": "stdout",
     "output_type": "stream",
     "text": [
      "Masukkan nilai : 91\n",
      "A\n",
      "Masukkan nilai : 82\n",
      "B\n",
      "Masukkan nilai : -1\n",
      "Score input is done.\n"
     ]
    }
   ],
   "source": [
    "your_score = \"\"\n",
    "while your_score != -1:\n",
    "    your_score = float(input(\"Masukkan nilai : \"))\n",
    "    \n",
    "    if your_score >= 0:\n",
    "        if your_score > 90:\n",
    "            print('A')\n",
    "        elif your_score <= 90 and your_score > 70:\n",
    "            print('B')\n",
    "        elif your_score <= 70 and your_score > 50:\n",
    "            print('C')\n",
    "        elif your_score <= 50 and your_score > 30:\n",
    "            print('D')\n",
    "        else:\n",
    "            print('E')\n",
    "print(\"Score input is done.\")"
   ]
  },
  {
   "cell_type": "code",
   "execution_count": 3,
   "id": "2c4afcb8",
   "metadata": {},
   "outputs": [
    {
     "name": "stdout",
     "output_type": "stream",
     "text": [
      "Masukkan angka batasan : 7\n",
      "12\n"
     ]
    }
   ],
   "source": [
    "'''\n",
    "    Masukkan nomor, \n",
    "    Program akan menambahkan semua bilangan genap di antara 0 s.d. nomor yang diinputkan\n",
    "    Misal, input = 7, output = 2 + 4 + 6 = 12\n",
    "'''\n",
    "nomor = 0\n",
    "sum_genap = 0\n",
    "\n",
    "batasan = int(input(\"Masukkan angka batasan : \"))\n",
    "while nomor < batasan:\n",
    "    if nomor % 2 == 0:\n",
    "        sum_genap += nomor\n",
    "    nomor += 1\n",
    "print(sum_genap)"
   ]
  },
  {
   "cell_type": "code",
   "execution_count": 5,
   "id": "e5ec28cd",
   "metadata": {},
   "outputs": [
    {
     "name": "stdout",
     "output_type": "stream",
     "text": [
      "Masukkan angka dari 0 - 10 : 2\n",
      "Masukkan angka dari 0 - 10 : 3\n",
      "Tebakanmu benar\n"
     ]
    }
   ],
   "source": [
    "'''\n",
    "    Buatlah program di mana user memasukkan suatu angka, dan\n",
    "    program akan men-generate angka random antara 0 - 10\n",
    "    Jika angka yang dimasukkan user tidak sama maka user akan diminta memasukkan angka baru\n",
    "    Jika angka yang dimasukkan user sama maka akan menampilkan \"tebakan kamu benar\" dan keluar dari program\n",
    "'''\n",
    "import random\n",
    "\n",
    "isUserCorrect = False\n",
    "randomNumber = random.randint(0,10)\n",
    "while not isUserCorrect:\n",
    "    angka = input(\"Masukkan angka dari 0 - 10 : \")\n",
    "    if not angka.isnumeric(): break;\n",
    "    isUserCorrect = int(angka) == randomNumber\n",
    "else:\n",
    "    print(\"Tebakanmu benar\")"
   ]
  },
  {
   "cell_type": "code",
   "execution_count": 7,
   "id": "a1ac130f",
   "metadata": {},
   "outputs": [
    {
     "name": "stdout",
     "output_type": "stream",
     "text": [
      "0,0 0,1 0,2 \n",
      "1,0 1,1 1,2 \n",
      "2,0 2,1 2,2 \n",
      "\n"
     ]
    }
   ],
   "source": [
    "'''\n",
    "    1 2 3\n",
    "    1 2 3\n",
    "    1 2 3\n",
    "'''\n",
    "\n",
    "row = 3\n",
    "col = 3\n",
    "i = 0\n",
    "disp = \"\"\n",
    "\n",
    "while i < row:\n",
    "    j = 0\n",
    "    while j < col:\n",
    "        disp = disp + str(i) + \",\" + str(j) + \" \"\n",
    "        j += 1\n",
    "    disp += \"\\n\"\n",
    "    i += 1\n",
    "print(disp)"
   ]
  },
  {
   "cell_type": "code",
   "execution_count": 9,
   "id": "eb7abb09",
   "metadata": {},
   "outputs": [
    {
     "name": "stdout",
     "output_type": "stream",
     "text": [
      "Masukkan tinggi segitiga bintang : 5\n",
      "*\n",
      "**\n",
      "***\n",
      "****\n",
      "*****\n",
      "\n"
     ]
    }
   ],
   "source": [
    "'''\n",
    "*\n",
    "**\n",
    "***\n",
    "****\n",
    "'''\n",
    "\n",
    "disp = \"\"\n",
    "row = int(input(\"Masukkan tinggi segitiga bintang : \"))\n",
    "\n",
    "i = 0\n",
    "while i < row:\n",
    "    j = 0\n",
    "    while j <= i:\n",
    "        disp += \"*\"\n",
    "        j += 1\n",
    "    disp += \"\\n\"\n",
    "    i += 1\n",
    "print(disp)"
   ]
  },
  {
   "cell_type": "markdown",
   "id": "bb6b12ce",
   "metadata": {},
   "source": [
    "### For"
   ]
  },
  {
   "cell_type": "code",
   "execution_count": 12,
   "id": "ad254c0c",
   "metadata": {},
   "outputs": [
    {
     "name": "stdout",
     "output_type": "stream",
     "text": [
      "nonton drama\n",
      "memasak\n",
      "edit video\n"
     ]
    }
   ],
   "source": [
    "hobi = [\"nonton drama\", \"memasak\", \"edit video\"]\n",
    "for h in hobi:\n",
    "    print(h)"
   ]
  },
  {
   "cell_type": "code",
   "execution_count": 13,
   "id": "d5ccac00",
   "metadata": {},
   "outputs": [
    {
     "name": "stdout",
     "output_type": "stream",
     "text": [
      "==== 0\n",
      "==== 1\n",
      "==== 2\n",
      "==== 3\n",
      "==== 4\n"
     ]
    }
   ],
   "source": [
    "for i in range(5):\n",
    "    print(\"====\", i)"
   ]
  },
  {
   "cell_type": "code",
   "execution_count": 15,
   "id": "c87616df",
   "metadata": {},
   "outputs": [
    {
     "name": "stdout",
     "output_type": "stream",
     "text": [
      "nama David\n",
      "==========\n",
      "nama David\n",
      "domisili Klaten\n"
     ]
    }
   ],
   "source": [
    "bio = {'nama':'David', 'umur':20, 'domisili':'Klaten'}\n",
    "\n",
    "for key in bio:\n",
    "    if(key == 'umur'): break\n",
    "    print(key, bio[key])\n",
    "\n",
    "print(\"==========\")\n",
    "\n",
    "for key in bio:\n",
    "    if(key == 'umur'): continue\n",
    "    print(key, bio[key])"
   ]
  },
  {
   "cell_type": "code",
   "execution_count": null,
   "id": "c271ba2b",
   "metadata": {},
   "outputs": [
    {
     "name": "stdout",
     "output_type": "stream",
     "text": [
      "Masukkan nama : David\n",
      "Masukkan umur : 20\n",
      "Masukkan pekerjaan : -\n",
      "Masukkan hobi: makan\n",
      "Masukkan hobi: minum\n",
      "Masukkan hobi: stop\n"
     ]
    }
   ],
   "source": [
    "bio = {'nama':'', 'umur':'', 'pekerjaan':'', 'hobi':[]}\n",
    "\n",
    "for key in bio:\n",
    "    if key == 'hobi':\n",
    "        user_input = \"\"\n",
    "        while user_input != \"stop\":\n",
    "            user_input = input(\"Masukkan hobi: \")\n",
    "            bio['hobi'].append(user_input)\n",
    "    user_input = input(\"Masukkan {} : \".format(key))\n",
    "    bio[key] == user_input\n",
    "print(bio)"
   ]
  }
 ],
 "metadata": {
  "kernelspec": {
   "display_name": "Python 3",
   "language": "python",
   "name": "python3"
  },
  "language_info": {
   "codemirror_mode": {
    "name": "ipython",
    "version": 3
   },
   "file_extension": ".py",
   "mimetype": "text/x-python",
   "name": "python",
   "nbconvert_exporter": "python",
   "pygments_lexer": "ipython3",
   "version": "3.8.8"
  },
  "toc": {
   "base_numbering": 1,
   "nav_menu": {},
   "number_sections": true,
   "sideBar": true,
   "skip_h1_title": false,
   "title_cell": "Table of Contents",
   "title_sidebar": "Contents",
   "toc_cell": false,
   "toc_position": {},
   "toc_section_display": true,
   "toc_window_display": false
  }
 },
 "nbformat": 4,
 "nbformat_minor": 5
}
