{
 "cells": [
  {
   "cell_type": "code",
   "execution_count": 2,
   "id": "a1df6772",
   "metadata": {},
   "outputs": [
    {
     "name": "stdout",
     "output_type": "stream",
     "text": [
      "out of scope\n",
      "function test\n",
      "sasa\n"
     ]
    }
   ],
   "source": [
    "def functiontest():\n",
    "    print(\"function test\")\n",
    "    print(\"sasa\")\n",
    "print(\"out of scope\")\n",
    "functiontest()"
   ]
  },
  {
   "cell_type": "code",
   "execution_count": 15,
   "id": "fe98e329",
   "metadata": {},
   "outputs": [
    {
     "name": "stdout",
     "output_type": "stream",
     "text": [
      "56\n",
      "42\n",
      "343\n",
      "7.0\n",
      "7\n",
      "0\n",
      "678223072849\n"
     ]
    }
   ],
   "source": [
    "a = 49\n",
    "b = 7\n",
    "\n",
    "print(a+b)\n",
    "print(a-b)\n",
    "print(a*b)\n",
    "print(a/b)\n",
    "print(a//b)\n",
    "print(a%b)\n",
    "print(a**b)"
   ]
  },
  {
   "cell_type": "code",
   "execution_count": 3,
   "id": "ec1da0d7",
   "metadata": {},
   "outputs": [],
   "source": [
    "test_string = \"Nama saya David\""
   ]
  },
  {
   "cell_type": "code",
   "execution_count": 4,
   "id": "f5f6da65",
   "metadata": {},
   "outputs": [
    {
     "data": {
      "text/plain": [
       "False"
      ]
     },
     "execution_count": 4,
     "metadata": {},
     "output_type": "execute_result"
    }
   ],
   "source": [
    "test_string.isalnum()"
   ]
  },
  {
   "cell_type": "code",
   "execution_count": 5,
   "id": "07c73c48",
   "metadata": {},
   "outputs": [],
   "source": [
    "myList2 = [1,[2],[3,4]]"
   ]
  },
  {
   "cell_type": "code",
   "execution_count": 6,
   "id": "7a1a3a27",
   "metadata": {},
   "outputs": [
    {
     "name": "stdout",
     "output_type": "stream",
     "text": [
      "4\n"
     ]
    }
   ],
   "source": [
    "print(myList2[2][1])"
   ]
  },
  {
   "cell_type": "code",
   "execution_count": 8,
   "id": "b3cd5979",
   "metadata": {},
   "outputs": [],
   "source": [
    "list_2 = [9,8,3,10]\n",
    "list_2.sort()"
   ]
  },
  {
   "cell_type": "code",
   "execution_count": 9,
   "id": "a984e128",
   "metadata": {},
   "outputs": [
    {
     "name": "stdout",
     "output_type": "stream",
     "text": [
      "[3, 8, 9, 10]\n"
     ]
    }
   ],
   "source": [
    "print(list_2)"
   ]
  },
  {
   "cell_type": "code",
   "execution_count": 10,
   "id": "489429e1",
   "metadata": {},
   "outputs": [
    {
     "name": "stdout",
     "output_type": "stream",
     "text": [
      "[3, 8, 9, 10, -3]\n"
     ]
    }
   ],
   "source": [
    "list_2.append(-3)\n",
    "print(list_2)"
   ]
  },
  {
   "cell_type": "code",
   "execution_count": 11,
   "id": "a6c93ffc",
   "metadata": {},
   "outputs": [
    {
     "data": {
      "text/plain": [
       "[3, 8, 9, -3, 10]"
      ]
     },
     "execution_count": 11,
     "metadata": {},
     "output_type": "execute_result"
    }
   ],
   "source": [
    "exist_val = list_2[3]\n",
    "list_2[3] = list_2[4]\n",
    "list_2[4] = exist_val\n",
    "\n",
    "list_2"
   ]
  },
  {
   "cell_type": "code",
   "execution_count": 12,
   "id": "4b3e3c31",
   "metadata": {},
   "outputs": [
    {
     "data": {
      "text/plain": [
       "{'name': 'David', 'age': 20, 'hobbies': ['cooking', 'kdrama']}"
      ]
     },
     "execution_count": 12,
     "metadata": {},
     "output_type": "execute_result"
    }
   ],
   "source": [
    "aboutMe = {\"name\":\"David\", \"age\":20, \"hobbies\":[\"cooking\", \"kdrama\"]}\n",
    "aboutMe"
   ]
  },
  {
   "cell_type": "code",
   "execution_count": 13,
   "id": "db2d8f72",
   "metadata": {},
   "outputs": [
    {
     "data": {
      "text/plain": [
       "'David'"
      ]
     },
     "execution_count": 13,
     "metadata": {},
     "output_type": "execute_result"
    }
   ],
   "source": [
    "aboutMe['name']"
   ]
  },
  {
   "cell_type": "code",
   "execution_count": 14,
   "id": "dbd3e270",
   "metadata": {},
   "outputs": [
    {
     "data": {
      "text/plain": [
       "{'name': 'David',\n",
       " 'age': 20,\n",
       " 'hobbies': ['cooking', 'kdrama'],\n",
       " 'occupation': 'fresh-graduate'}"
      ]
     },
     "execution_count": 14,
     "metadata": {},
     "output_type": "execute_result"
    }
   ],
   "source": [
    "aboutMe['occupation'] = 'fresh-graduate'\n",
    "aboutMe"
   ]
  },
  {
   "cell_type": "code",
   "execution_count": null,
   "id": "ff8a3ad2",
   "metadata": {},
   "outputs": [],
   "source": []
  }
 ],
 "metadata": {
  "kernelspec": {
   "display_name": "Python 3",
   "language": "python",
   "name": "python3"
  },
  "language_info": {
   "codemirror_mode": {
    "name": "ipython",
    "version": 3
   },
   "file_extension": ".py",
   "mimetype": "text/x-python",
   "name": "python",
   "nbconvert_exporter": "python",
   "pygments_lexer": "ipython3",
   "version": "3.8.8"
  }
 },
 "nbformat": 4,
 "nbformat_minor": 5
}
