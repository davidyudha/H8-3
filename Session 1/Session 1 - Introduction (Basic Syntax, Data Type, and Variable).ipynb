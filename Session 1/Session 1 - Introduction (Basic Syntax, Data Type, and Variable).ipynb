{
 "cells": [
  {
   "cell_type": "markdown",
   "id": "2090c7db",
   "metadata": {},
   "source": [
    "### Indentation Python"
   ]
  },
  {
   "cell_type": "code",
   "execution_count": 27,
   "id": "a1df6772",
   "metadata": {},
   "outputs": [
    {
     "name": "stdout",
     "output_type": "stream",
     "text": [
      "out of scope\n",
      "function test\n",
      "sasa\n"
     ]
    }
   ],
   "source": [
    "def functiontest():\n",
    "    print(\"function test\")\n",
    "    print(\"sasa\")\n",
    "print(\"out of scope\")\n",
    "functiontest()"
   ]
  },
  {
   "cell_type": "markdown",
   "id": "0ad22ed1",
   "metadata": {},
   "source": [
    "### Integer & Float"
   ]
  },
  {
   "cell_type": "code",
   "execution_count": 28,
   "id": "fe98e329",
   "metadata": {
    "scrolled": true
   },
   "outputs": [
    {
     "name": "stdout",
     "output_type": "stream",
     "text": [
      "56\n",
      "42\n",
      "343\n",
      "7.0\n",
      "7\n",
      "0\n",
      "678223072849\n",
      "False\n",
      "True\n",
      "False\n",
      "True\n"
     ]
    }
   ],
   "source": [
    "a = 49\n",
    "b = 7\n",
    "\n",
    "print(a+b)\n",
    "print(a-b)\n",
    "print(a*b)\n",
    "print(a/b)\n",
    "print(a//b)\n",
    "print(a%b)\n",
    "print(a**b)\n",
    "\n",
    "print(a == b)\n",
    "print(a != b)\n",
    "print(a <= b)\n",
    "print(a >= b)"
   ]
  },
  {
   "cell_type": "code",
   "execution_count": 29,
   "id": "94476132",
   "metadata": {},
   "outputs": [
    {
     "name": "stdout",
     "output_type": "stream",
     "text": [
      "11.889999999999999\n",
      "7.51\n",
      "21.243\n",
      "4.429223744292237\n",
      "4.0\n",
      "0.9399999999999995\n",
      "144.88722617021284\n"
     ]
    }
   ],
   "source": [
    "c = 9.7\n",
    "d = 2.19\n",
    "\n",
    "print(c+d)\n",
    "print(c-d)\n",
    "print(c*d)\n",
    "print(c/d)\n",
    "print(c//d)\n",
    "print(c%d)\n",
    "print(c**d)"
   ]
  },
  {
   "cell_type": "markdown",
   "id": "bf38c807",
   "metadata": {},
   "source": [
    "### String"
   ]
  },
  {
   "cell_type": "code",
   "execution_count": 30,
   "id": "ec1da0d7",
   "metadata": {},
   "outputs": [
    {
     "name": "stdout",
     "output_type": "stream",
     "text": [
      "kucinganjingkambing\n",
      "kucingkucingkucing\n",
      "anjinganjinganjinganjinganjing\n",
      "kambingkambing\n"
     ]
    }
   ],
   "source": [
    "s0 = 'kucing'\n",
    "s1 = 'anjing'\n",
    "s2 = 'kambing'\n",
    "\n",
    "print(s0 + s1 + s2)\n",
    "print(s0 * 3)\n",
    "print(s1 * 5)\n",
    "print(s2 * 2)"
   ]
  },
  {
   "cell_type": "code",
   "execution_count": 31,
   "id": "f5f6da65",
   "metadata": {
    "scrolled": true
   },
   "outputs": [
    {
     "name": "stdout",
     "output_type": "stream",
     "text": [
      "False\n",
      "False\n"
     ]
    }
   ],
   "source": [
    "print(s0 in 'Kucing dan anjing sering bermusuhan')\n",
    "print(s0 in 'Kambing makan rumput')"
   ]
  },
  {
   "cell_type": "code",
   "execution_count": 32,
   "id": "463513e8",
   "metadata": {
    "scrolled": true
   },
   "outputs": [
    {
     "name": "stdout",
     "output_type": "stream",
     "text": [
      "Capitalize -> Kementrian pendidikan dan kebudayaan\n",
      "Lower -> kementrian pendidikan dan kebudayaan\n",
      "Swapcase -> kEMENTRIAN pENDIDIKAN DAN kEBUDAYAAN\n",
      "Title -> Kementrian Pendidikan Dan Kebudayaan\n",
      "Upper -> KEMENTRIAN PENDIDIKAN DAN KEBUDAYAAN\n"
     ]
    }
   ],
   "source": [
    "kemdikbud = 'Kementrian Pendidikan dan Kebudayaan'\n",
    "\n",
    "# Capitalize\n",
    "print('Capitalize ->', kemdikbud.capitalize())\n",
    "print('Lower ->', kemdikbud.lower())\n",
    "print('Swapcase ->', kemdikbud.swapcase())\n",
    "print('Title ->', kemdikbud.title())\n",
    "print('Upper ->', kemdikbud.upper())"
   ]
  },
  {
   "cell_type": "markdown",
   "id": "23765513",
   "metadata": {},
   "source": [
    "### List"
   ]
  },
  {
   "cell_type": "code",
   "execution_count": 33,
   "id": "07c73c48",
   "metadata": {},
   "outputs": [],
   "source": [
    "list_1 = [1,[2],[3,4]]"
   ]
  },
  {
   "cell_type": "code",
   "execution_count": 34,
   "id": "7a1a3a27",
   "metadata": {},
   "outputs": [
    {
     "name": "stdout",
     "output_type": "stream",
     "text": [
      "4\n"
     ]
    }
   ],
   "source": [
    "print(list_1[2][1])"
   ]
  },
  {
   "cell_type": "code",
   "execution_count": 35,
   "id": "b3cd5979",
   "metadata": {},
   "outputs": [],
   "source": [
    "list_2 = [9,8,3,10]\n",
    "list_2.sort()"
   ]
  },
  {
   "cell_type": "code",
   "execution_count": 36,
   "id": "a984e128",
   "metadata": {},
   "outputs": [
    {
     "name": "stdout",
     "output_type": "stream",
     "text": [
      "[3, 8, 9, 10]\n"
     ]
    }
   ],
   "source": [
    "print(list_2)"
   ]
  },
  {
   "cell_type": "code",
   "execution_count": 37,
   "id": "489429e1",
   "metadata": {},
   "outputs": [
    {
     "name": "stdout",
     "output_type": "stream",
     "text": [
      "[3, 8, 9, 10, -3]\n"
     ]
    }
   ],
   "source": [
    "list_2.append(-3)\n",
    "print(list_2)"
   ]
  },
  {
   "cell_type": "code",
   "execution_count": 38,
   "id": "c4155206",
   "metadata": {},
   "outputs": [
    {
     "name": "stdout",
     "output_type": "stream",
     "text": [
      "[3, 8, 9, 10, -3, 'kampus', 'merdeka', 8]\n"
     ]
    }
   ],
   "source": [
    "print(list_2 + ['kampus', 'merdeka', 8])"
   ]
  },
  {
   "cell_type": "code",
   "execution_count": 39,
   "id": "86ffd495",
   "metadata": {},
   "outputs": [
    {
     "data": {
      "text/plain": [
       "[9, 10]"
      ]
     },
     "execution_count": 39,
     "metadata": {},
     "output_type": "execute_result"
    }
   ],
   "source": [
    "list_2[2:4]"
   ]
  },
  {
   "cell_type": "code",
   "execution_count": 40,
   "id": "985e66b1",
   "metadata": {},
   "outputs": [
    {
     "data": {
      "text/plain": [
       "[8, 9, 10]"
      ]
     },
     "execution_count": 40,
     "metadata": {},
     "output_type": "execute_result"
    }
   ],
   "source": [
    "list_2[-4:-1]"
   ]
  },
  {
   "cell_type": "code",
   "execution_count": 41,
   "id": "b468bb5d",
   "metadata": {},
   "outputs": [
    {
     "data": {
      "text/plain": [
       "[-3, 10, 9, 8, 3]"
      ]
     },
     "execution_count": 41,
     "metadata": {},
     "output_type": "execute_result"
    }
   ],
   "source": [
    "list_2[::-1]"
   ]
  },
  {
   "cell_type": "code",
   "execution_count": 42,
   "id": "a6c93ffc",
   "metadata": {},
   "outputs": [
    {
     "data": {
      "text/plain": [
       "[3, 8, 9, -3, 10]"
      ]
     },
     "execution_count": 42,
     "metadata": {},
     "output_type": "execute_result"
    }
   ],
   "source": [
    "exist_val = list_2[3]\n",
    "list_2[3] = list_2[4]\n",
    "list_2[4] = exist_val\n",
    "\n",
    "list_2"
   ]
  },
  {
   "cell_type": "code",
   "execution_count": 43,
   "id": "7de54d6b",
   "metadata": {},
   "outputs": [
    {
     "name": "stdout",
     "output_type": "stream",
     "text": [
      "[3, 8, 9, 'hacktiv8', 10]\n"
     ]
    }
   ],
   "source": [
    "list_2[-2] = 'hacktiv8'\n",
    "print(list_2)"
   ]
  },
  {
   "cell_type": "code",
   "execution_count": 44,
   "id": "1746b584",
   "metadata": {},
   "outputs": [],
   "source": [
    "del list_2[-3]"
   ]
  },
  {
   "cell_type": "code",
   "execution_count": 45,
   "id": "7cb3cadb",
   "metadata": {},
   "outputs": [
    {
     "name": "stdout",
     "output_type": "stream",
     "text": [
      "[3, 8, 'hacktiv8', 10]\n"
     ]
    }
   ],
   "source": [
    "print(list_2)"
   ]
  },
  {
   "cell_type": "code",
   "execution_count": 46,
   "id": "f747860e",
   "metadata": {
    "scrolled": true
   },
   "outputs": [
    {
     "name": "stdout",
     "output_type": "stream",
     "text": [
      "[3, 6, 'kampus-merdeka', 'studi', 10]\n"
     ]
    }
   ],
   "source": [
    "list_2[1:3] = [6, 'kampus-merdeka', 'studi']\n",
    "print(list_2)"
   ]
  },
  {
   "cell_type": "markdown",
   "id": "ffc9ed19",
   "metadata": {},
   "source": [
    "### Tuples"
   ]
  },
  {
   "cell_type": "code",
   "execution_count": 47,
   "id": "d2e3ebb7",
   "metadata": {},
   "outputs": [
    {
     "name": "stdout",
     "output_type": "stream",
     "text": [
      "('David', 20, 'Klaten', 'Lulus', [90, 85, 92])\n"
     ]
    }
   ],
   "source": [
    "tup = ('David', 20, 'Klaten', 'Lulus', [90, 85, 92])\n",
    "print(tup)"
   ]
  },
  {
   "cell_type": "code",
   "execution_count": 48,
   "id": "eee59225",
   "metadata": {},
   "outputs": [
    {
     "name": "stdout",
     "output_type": "stream",
     "text": [
      "Klaten\n"
     ]
    }
   ],
   "source": [
    "print(tup[2])"
   ]
  },
  {
   "cell_type": "code",
   "execution_count": 49,
   "id": "c4a7b3a4",
   "metadata": {
    "scrolled": true
   },
   "outputs": [
    {
     "name": "stdout",
     "output_type": "stream",
     "text": [
      "92\n"
     ]
    }
   ],
   "source": [
    "print(tup[4][2])"
   ]
  },
  {
   "cell_type": "markdown",
   "id": "fcf6fd68",
   "metadata": {},
   "source": [
    "### Dictionary"
   ]
  },
  {
   "cell_type": "code",
   "execution_count": 50,
   "id": "4b3e3c31",
   "metadata": {},
   "outputs": [
    {
     "data": {
      "text/plain": [
       "{'name': 'David', 'age': 20, 'hobbies': ['cooking', 'kdrama']}"
      ]
     },
     "execution_count": 50,
     "metadata": {},
     "output_type": "execute_result"
    }
   ],
   "source": [
    "aboutMe = {\"name\":\"David\", \"age\":20, \"hobbies\":[\"cooking\", \"kdrama\"]}\n",
    "aboutMe"
   ]
  },
  {
   "cell_type": "code",
   "execution_count": 51,
   "id": "db2d8f72",
   "metadata": {},
   "outputs": [
    {
     "data": {
      "text/plain": [
       "'David'"
      ]
     },
     "execution_count": 51,
     "metadata": {},
     "output_type": "execute_result"
    }
   ],
   "source": [
    "aboutMe['name']"
   ]
  },
  {
   "cell_type": "code",
   "execution_count": 52,
   "id": "dbd3e270",
   "metadata": {},
   "outputs": [
    {
     "data": {
      "text/plain": [
       "{'name': 'David',\n",
       " 'age': 20,\n",
       " 'hobbies': ['cooking', 'kdrama'],\n",
       " 'occupation': 'fresh-graduate'}"
      ]
     },
     "execution_count": 52,
     "metadata": {},
     "output_type": "execute_result"
    }
   ],
   "source": [
    "aboutMe['occupation'] = 'fresh-graduate'\n",
    "aboutMe"
   ]
  },
  {
   "cell_type": "markdown",
   "id": "db0b9f8b",
   "metadata": {},
   "source": [
    "### Widgets"
   ]
  },
  {
   "cell_type": "code",
   "execution_count": 53,
   "id": "3f06572a",
   "metadata": {},
   "outputs": [],
   "source": [
    "from ipywidgets import interact\n",
    "import ipywidgets as widgets"
   ]
  },
  {
   "cell_type": "code",
   "execution_count": 54,
   "id": "df6d1b0b",
   "metadata": {},
   "outputs": [
    {
     "data": {
      "application/vnd.jupyter.widget-view+json": {
       "model_id": "ff3563abdfb14b0caba36bd4e3377b4a",
       "version_major": 2,
       "version_minor": 0
      },
      "text/plain": [
       "interactive(children=(IntSlider(value=10, description='x', max=30, min=-10), Output()), _dom_classes=('widget-…"
      ]
     },
     "metadata": {},
     "output_type": "display_data"
    },
    {
     "data": {
      "text/plain": [
       "<function __main__.f(x)>"
      ]
     },
     "execution_count": 54,
     "metadata": {},
     "output_type": "execute_result"
    }
   ],
   "source": [
    "def f(x):\n",
    "    return x\n",
    "\n",
    "interact(f, x=10,)"
   ]
  },
  {
   "cell_type": "code",
   "execution_count": 55,
   "id": "4c909116",
   "metadata": {},
   "outputs": [
    {
     "data": {
      "application/vnd.jupyter.widget-view+json": {
       "model_id": "f188319d8585469aa3d7cb9f42698b8a",
       "version_major": 2,
       "version_minor": 0
      },
      "text/plain": [
       "interactive(children=(Checkbox(value=True, description='x'), Output()), _dom_classes=('widget-interact',))"
      ]
     },
     "metadata": {},
     "output_type": "display_data"
    },
    {
     "data": {
      "text/plain": [
       "<function __main__.f(x)>"
      ]
     },
     "execution_count": 55,
     "metadata": {},
     "output_type": "execute_result"
    }
   ],
   "source": [
    "interact(f, x=True)"
   ]
  },
  {
   "cell_type": "code",
   "execution_count": 56,
   "id": "dc99e755",
   "metadata": {},
   "outputs": [
    {
     "data": {
      "application/vnd.jupyter.widget-view+json": {
       "model_id": "1890d48a0f4044a1baf3de1fb59fd909",
       "version_major": 2,
       "version_minor": 0
      },
      "text/plain": [
       "interactive(children=(Text(value='David', description='x'), Output()), _dom_classes=('widget-interact',))"
      ]
     },
     "metadata": {},
     "output_type": "display_data"
    },
    {
     "data": {
      "text/plain": [
       "<function __main__.f(x)>"
      ]
     },
     "execution_count": 56,
     "metadata": {},
     "output_type": "execute_result"
    }
   ],
   "source": [
    "interact(f, x='David')"
   ]
  },
  {
   "cell_type": "code",
   "execution_count": 57,
   "id": "986d111e",
   "metadata": {},
   "outputs": [
    {
     "data": {
      "application/vnd.jupyter.widget-view+json": {
       "model_id": "c8a55df235d24993a8999b64103f89a8",
       "version_major": 2,
       "version_minor": 0
      },
      "text/plain": [
       "HBox(children=(Play(value=50, description='Tekan Play'), IntSlider(value=0)))"
      ]
     },
     "metadata": {},
     "output_type": "display_data"
    }
   ],
   "source": [
    "play = widgets.Play(\n",
    "    value=50,\n",
    "    min=0,\n",
    "    max=100,\n",
    "    step=1,\n",
    "    description=\"Tekan Play\",\n",
    "    disabled=False)\n",
    "\n",
    "slider = widgets.IntSlider()\n",
    "widgets.jslink((play, 'value'), (slider, 'value'))\n",
    "widgets.HBox((play, slider))"
   ]
  },
  {
   "cell_type": "code",
   "execution_count": 58,
   "id": "149b186c",
   "metadata": {},
   "outputs": [
    {
     "data": {
      "application/vnd.jupyter.widget-view+json": {
       "model_id": "b38c966543d34607b665b39201a37dff",
       "version_major": 2,
       "version_minor": 0
      },
      "text/plain": [
       "DatePicker(value=None, description='Pilih Tanggal')"
      ]
     },
     "metadata": {},
     "output_type": "display_data"
    }
   ],
   "source": [
    "widgets.DatePicker(\n",
    "    description='Pilih Tanggal',\n",
    "    disabled=False\n",
    ")"
   ]
  },
  {
   "cell_type": "code",
   "execution_count": 59,
   "id": "39527ecd",
   "metadata": {},
   "outputs": [
    {
     "data": {
      "application/vnd.jupyter.widget-view+json": {
       "model_id": "4242e87648104742ae95923f439a7cc6",
       "version_major": 2,
       "version_minor": 0
      },
      "text/plain": [
       "Tab(children=(Text(value='', description='K0'), Text(value='', description='K1'), Text(value='', description='…"
      ]
     },
     "metadata": {},
     "output_type": "display_data"
    }
   ],
   "source": [
    "tab_contents = ['K0','K1','K2','K3','K4']\n",
    "children = [widgets.Text(description=name) for name in tab_contents]\n",
    "tab = widgets.Tab()\n",
    "tab.children = children\n",
    "for i in range(len(children)):\n",
    "    tab.set_title(i, str(i))\n",
    "tab"
   ]
  }
 ],
 "metadata": {
  "kernelspec": {
   "display_name": "Python 3",
   "language": "python",
   "name": "python3"
  },
  "language_info": {
   "codemirror_mode": {
    "name": "ipython",
    "version": 3
   },
   "file_extension": ".py",
   "mimetype": "text/x-python",
   "name": "python",
   "nbconvert_exporter": "python",
   "pygments_lexer": "ipython3",
   "version": "3.8.8"
  },
  "toc": {
   "base_numbering": 1,
   "nav_menu": {},
   "number_sections": true,
   "sideBar": true,
   "skip_h1_title": false,
   "title_cell": "Table of Contents",
   "title_sidebar": "Contents",
   "toc_cell": false,
   "toc_position": {},
   "toc_section_display": true,
   "toc_window_display": false
  }
 },
 "nbformat": 4,
 "nbformat_minor": 5
}
